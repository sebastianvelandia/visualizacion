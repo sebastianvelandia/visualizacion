{
 "cells": [
  {
   "cell_type": "code",
   "execution_count": 27,
   "metadata": {},
   "outputs": [],
   "source": [
    "import pandas as pd\n",
    "import matplotlib.pyplot as plt\n",
    "\n",
    "df = pd.read_excel(\"Saberpro16.xlsx\", sheet_name=\"2019\")"
   ]
  },
  {
   "cell_type": "code",
   "execution_count": 34,
   "metadata": {},
   "outputs": [],
   "source": [
    "#Limpieza de datos\n",
    "df1=df"
   ]
  },
  {
   "cell_type": "code",
   "execution_count": 35,
   "metadata": {},
   "outputs": [],
   "source": [
    "df1=df1.dropna(how='any')"
   ]
  },
  {
   "cell_type": "code",
   "execution_count": 55,
   "metadata": {},
   "outputs": [],
   "source": [
    "x1 = df1['MOD_RAZONA_CUANTITAT_PUNT'].mean()\n",
    "df['MOD_RAZONA_CUANTITAT_PUNT'].fillna(x1,inplace=True)"
   ]
  },
  {
   "cell_type": "code",
   "execution_count": 56,
   "metadata": {},
   "outputs": [],
   "source": [
    "x1 = df1['MOD_RAZONA_CUANTITAT_DESEM'].mode()\n",
    "df['MOD_RAZONA_CUANTITAT_DESEM'].fillna(x1,inplace=True)"
   ]
  },
  {
   "cell_type": "code",
   "execution_count": 57,
   "metadata": {},
   "outputs": [],
   "source": [
    "x2 = df1['MOD_LECTURA_CRITICA_PUNT'].mean()\n",
    "df['MOD_LECTURA_CRITICA_PUNT'].fillna(x2,inplace=True)"
   ]
  },
  {
   "cell_type": "code",
   "execution_count": 58,
   "metadata": {},
   "outputs": [],
   "source": [
    "x2 = df1['MOD_LECTURA_CRITICA_DESEM'].mode()\n",
    "df['MOD_LECTURA_CRITICA_DESEM'].fillna(x2,inplace=True)"
   ]
  },
  {
   "cell_type": "code",
   "execution_count": 59,
   "metadata": {},
   "outputs": [],
   "source": [
    "x3 = df1['MOD_COMPETEN_CIUDADA_PUNT'].mean()\n",
    "df['MOD_COMPETEN_CIUDADA_PUNT'].fillna(x3,inplace=True)"
   ]
  },
  {
   "cell_type": "code",
   "execution_count": 60,
   "metadata": {},
   "outputs": [],
   "source": [
    "x3 = df1['MOD_COMPETEN_CIUDADA_DESEM'].mode()\n",
    "df['MOD_COMPETEN_CIUDADA_DESEM'].fillna(x3,inplace=True)"
   ]
  },
  {
   "cell_type": "code",
   "execution_count": 61,
   "metadata": {},
   "outputs": [],
   "source": [
    "x4 = df1['MOD_INGLES_PUNT'].mean()\n",
    "df['MOD_INGLES_PUNT'].fillna(x4,inplace=True)"
   ]
  },
  {
   "cell_type": "code",
   "execution_count": 62,
   "metadata": {},
   "outputs": [],
   "source": [
    "x4 = df1['MOD_INGLES_DESEM'].mode()\n",
    "df['MOD_INGLES_DESEM'].fillna(x4,inplace=True)"
   ]
  },
  {
   "cell_type": "code",
   "execution_count": 66,
   "metadata": {},
   "outputs": [],
   "source": [
    "x5 = df1['MOD_COMUNI_ESCRITA_PUNT'].mean()\n",
    "df['MOD_COMUNI_ESCRITA_PUNT'].fillna(x5,inplace=True)"
   ]
  },
  {
   "cell_type": "code",
   "execution_count": 68,
   "metadata": {},
   "outputs": [],
   "source": [
    "x5 = df1['MOD_COMUNI_ESCRITA_DESEM'].mode()\n",
    "df['MOD_COMUNI_ESCRITA_DESEM'].fillna(x5,inplace=True)"
   ]
  },
  {
   "cell_type": "code",
   "execution_count": 69,
   "metadata": {},
   "outputs": [
    {
     "data": {
      "text/html": [
       "<div>\n",
       "<style scoped>\n",
       "    .dataframe tbody tr th:only-of-type {\n",
       "        vertical-align: middle;\n",
       "    }\n",
       "\n",
       "    .dataframe tbody tr th {\n",
       "        vertical-align: top;\n",
       "    }\n",
       "\n",
       "    .dataframe thead th {\n",
       "        text-align: right;\n",
       "    }\n",
       "</style>\n",
       "<table border=\"1\" class=\"dataframe\">\n",
       "  <thead>\n",
       "    <tr style=\"text-align: right;\">\n",
       "      <th></th>\n",
       "      <th>MOD_RAZONA_CUANTITAT_PUNT</th>\n",
       "      <th>MOD_RAZONA_CUANTITAT_DESEM</th>\n",
       "      <th>MOD_LECTURA_CRITICA_PUNT</th>\n",
       "      <th>MOD_LECTURA_CRITICA_DESEM</th>\n",
       "      <th>MOD_COMPETEN_CIUDADA_PUNT</th>\n",
       "      <th>MOD_COMPETEN_CIUDADA_DESEM</th>\n",
       "      <th>MOD_INGLES_PUNT</th>\n",
       "      <th>MOD_INGLES_DESEM</th>\n",
       "      <th>MOD_COMUNI_ESCRITA_PUNT</th>\n",
       "      <th>MOD_COMUNI_ESCRITA_DESEM</th>\n",
       "    </tr>\n",
       "  </thead>\n",
       "  <tbody>\n",
       "    <tr>\n",
       "      <th>0</th>\n",
       "      <td>178</td>\n",
       "      <td>3</td>\n",
       "      <td>149</td>\n",
       "      <td>2</td>\n",
       "      <td>124</td>\n",
       "      <td>1</td>\n",
       "      <td>173.0</td>\n",
       "      <td>B1</td>\n",
       "      <td>138</td>\n",
       "      <td>2.0</td>\n",
       "    </tr>\n",
       "    <tr>\n",
       "      <th>1</th>\n",
       "      <td>191</td>\n",
       "      <td>3</td>\n",
       "      <td>182</td>\n",
       "      <td>3</td>\n",
       "      <td>199</td>\n",
       "      <td>3</td>\n",
       "      <td>211.0</td>\n",
       "      <td>B2</td>\n",
       "      <td>139</td>\n",
       "      <td>2.0</td>\n",
       "    </tr>\n",
       "    <tr>\n",
       "      <th>2</th>\n",
       "      <td>153</td>\n",
       "      <td>2</td>\n",
       "      <td>128</td>\n",
       "      <td>2</td>\n",
       "      <td>133</td>\n",
       "      <td>2</td>\n",
       "      <td>143.0</td>\n",
       "      <td>A1</td>\n",
       "      <td>129</td>\n",
       "      <td>2.0</td>\n",
       "    </tr>\n",
       "    <tr>\n",
       "      <th>3</th>\n",
       "      <td>171</td>\n",
       "      <td>3</td>\n",
       "      <td>150</td>\n",
       "      <td>2</td>\n",
       "      <td>173</td>\n",
       "      <td>3</td>\n",
       "      <td>162.0</td>\n",
       "      <td>A2</td>\n",
       "      <td>136</td>\n",
       "      <td>2.0</td>\n",
       "    </tr>\n",
       "    <tr>\n",
       "      <th>4</th>\n",
       "      <td>184</td>\n",
       "      <td>3</td>\n",
       "      <td>108</td>\n",
       "      <td>1</td>\n",
       "      <td>89</td>\n",
       "      <td>1</td>\n",
       "      <td>187.0</td>\n",
       "      <td>B1</td>\n",
       "      <td>188</td>\n",
       "      <td>4.0</td>\n",
       "    </tr>\n",
       "    <tr>\n",
       "      <th>...</th>\n",
       "      <td>...</td>\n",
       "      <td>...</td>\n",
       "      <td>...</td>\n",
       "      <td>...</td>\n",
       "      <td>...</td>\n",
       "      <td>...</td>\n",
       "      <td>...</td>\n",
       "      <td>...</td>\n",
       "      <td>...</td>\n",
       "      <td>...</td>\n",
       "    </tr>\n",
       "    <tr>\n",
       "      <th>86</th>\n",
       "      <td>167</td>\n",
       "      <td>3</td>\n",
       "      <td>172</td>\n",
       "      <td>3</td>\n",
       "      <td>178</td>\n",
       "      <td>3</td>\n",
       "      <td>215.0</td>\n",
       "      <td>B2</td>\n",
       "      <td>0</td>\n",
       "      <td>NaN</td>\n",
       "    </tr>\n",
       "    <tr>\n",
       "      <th>87</th>\n",
       "      <td>120</td>\n",
       "      <td>1</td>\n",
       "      <td>107</td>\n",
       "      <td>1</td>\n",
       "      <td>99</td>\n",
       "      <td>1</td>\n",
       "      <td>167.0</td>\n",
       "      <td>A2</td>\n",
       "      <td>138</td>\n",
       "      <td>2.0</td>\n",
       "    </tr>\n",
       "    <tr>\n",
       "      <th>88</th>\n",
       "      <td>154</td>\n",
       "      <td>3</td>\n",
       "      <td>130</td>\n",
       "      <td>2</td>\n",
       "      <td>132</td>\n",
       "      <td>2</td>\n",
       "      <td>149.0</td>\n",
       "      <td>A2</td>\n",
       "      <td>91</td>\n",
       "      <td>1.0</td>\n",
       "    </tr>\n",
       "    <tr>\n",
       "      <th>89</th>\n",
       "      <td>198</td>\n",
       "      <td>3</td>\n",
       "      <td>172</td>\n",
       "      <td>3</td>\n",
       "      <td>137</td>\n",
       "      <td>2</td>\n",
       "      <td>165.0</td>\n",
       "      <td>A2</td>\n",
       "      <td>127</td>\n",
       "      <td>2.0</td>\n",
       "    </tr>\n",
       "    <tr>\n",
       "      <th>90</th>\n",
       "      <td>139</td>\n",
       "      <td>2</td>\n",
       "      <td>172</td>\n",
       "      <td>3</td>\n",
       "      <td>169</td>\n",
       "      <td>3</td>\n",
       "      <td>189.0</td>\n",
       "      <td>B1</td>\n",
       "      <td>120</td>\n",
       "      <td>2.0</td>\n",
       "    </tr>\n",
       "  </tbody>\n",
       "</table>\n",
       "<p>91 rows × 10 columns</p>\n",
       "</div>"
      ],
      "text/plain": [
       "    MOD_RAZONA_CUANTITAT_PUNT  MOD_RAZONA_CUANTITAT_DESEM  \\\n",
       "0                         178                           3   \n",
       "1                         191                           3   \n",
       "2                         153                           2   \n",
       "3                         171                           3   \n",
       "4                         184                           3   \n",
       "..                        ...                         ...   \n",
       "86                        167                           3   \n",
       "87                        120                           1   \n",
       "88                        154                           3   \n",
       "89                        198                           3   \n",
       "90                        139                           2   \n",
       "\n",
       "    MOD_LECTURA_CRITICA_PUNT  MOD_LECTURA_CRITICA_DESEM  \\\n",
       "0                        149                          2   \n",
       "1                        182                          3   \n",
       "2                        128                          2   \n",
       "3                        150                          2   \n",
       "4                        108                          1   \n",
       "..                       ...                        ...   \n",
       "86                       172                          3   \n",
       "87                       107                          1   \n",
       "88                       130                          2   \n",
       "89                       172                          3   \n",
       "90                       172                          3   \n",
       "\n",
       "    MOD_COMPETEN_CIUDADA_PUNT  MOD_COMPETEN_CIUDADA_DESEM  MOD_INGLES_PUNT  \\\n",
       "0                         124                           1            173.0   \n",
       "1                         199                           3            211.0   \n",
       "2                         133                           2            143.0   \n",
       "3                         173                           3            162.0   \n",
       "4                          89                           1            187.0   \n",
       "..                        ...                         ...              ...   \n",
       "86                        178                           3            215.0   \n",
       "87                         99                           1            167.0   \n",
       "88                        132                           2            149.0   \n",
       "89                        137                           2            165.0   \n",
       "90                        169                           3            189.0   \n",
       "\n",
       "   MOD_INGLES_DESEM  MOD_COMUNI_ESCRITA_PUNT  MOD_COMUNI_ESCRITA_DESEM  \n",
       "0                B1                      138                       2.0  \n",
       "1                B2                      139                       2.0  \n",
       "2                A1                      129                       2.0  \n",
       "3                A2                      136                       2.0  \n",
       "4                B1                      188                       4.0  \n",
       "..              ...                      ...                       ...  \n",
       "86               B2                        0                       NaN  \n",
       "87               A2                      138                       2.0  \n",
       "88               A2                       91                       1.0  \n",
       "89               A2                      127                       2.0  \n",
       "90               B1                      120                       2.0  \n",
       "\n",
       "[91 rows x 10 columns]"
      ]
     },
     "execution_count": 69,
     "metadata": {},
     "output_type": "execute_result"
    }
   ],
   "source": [
    "df"
   ]
  },
  {
   "cell_type": "code",
   "execution_count": 46,
   "metadata": {},
   "outputs": [
    {
     "data": {
      "image/png": "[encoded data removed]",
      "text/plain": [
       "<Figure size 432x288 with 1 Axes>"
      ]
     },
     "metadata": {
      "needs_background": "light"
     },
     "output_type": "display_data"
    }
   ],
   "source": [
    "#Grafica de boxplot \n",
    "x = df.groupby(['MOD_RAZONA_CUANTITAT_DESEM'])['MOD_RAZONA_CUANTITAT_PUNT'].count()\n",
    "plt.boxplot(x)\n",
    "plt.xlabel('Razonamiento cuantitativo')\n",
    "plt.show()"
   ]
  },
  {
   "cell_type": "code",
   "execution_count": 47,
   "metadata": {},
   "outputs": [
    {
     "data": {
      "text/plain": [
       "MOD_RAZONA_CUANTITAT_DESEM\n",
       "1     3\n",
       "2    26\n",
       "3    59\n",
       "4     3\n",
       "Name: MOD_RAZONA_CUANTITAT_PUNT, dtype: int64"
      ]
     },
     "execution_count": 47,
     "metadata": {},
     "output_type": "execute_result"
    }
   ],
   "source": [
    "x"
   ]
  },
  {
   "cell_type": "code",
   "execution_count": 84,
   "metadata": {},
   "outputs": [
    {
     "data": {
      "image/png": "[encoded data removed]",
      "text/plain": [
       "<Figure size 432x288 with 1 Axes>"
      ]
     },
     "metadata": {
      "needs_background": "light"
     },
     "output_type": "display_data"
    }
   ],
   "source": [
    "x = df.sort_values(['MOD_RAZONA_CUANTITAT_DESEM','MOD_RAZONA_CUANTITAT_PUNT']).groupby('MOD_RAZONA_CUANTITAT_DESEM').head(10)\n",
    "y = x['MOD_RAZONA_CUANTITAT_PUNT'].head(3)\n",
    "\n",
    "plt.boxplot(y)\n",
    "plt.xlabel('Razonamiento cuantitativo: Desempeño 1')\n",
    "plt.show()\n"
   ]
  },
  {
   "cell_type": "code",
   "execution_count": 91,
   "metadata": {},
   "outputs": [],
   "source": [
    "z = x['MOD_RAZONA_CUANTITAT_PUNT'][3:28]\n"
   ]
  },
  {
   "cell_type": "code",
   "execution_count": 92,
   "metadata": {},
   "outputs": [
    {
     "data": {
      "text/plain": [
       "145"
      ]
     },
     "execution_count": 92,
     "metadata": {},
     "output_type": "execute_result"
    }
   ],
   "source": [
    "z"
   ]
  },
  {
   "cell_type": "code",
   "execution_count": 70,
   "metadata": {},
   "outputs": [
    {
     "data": {
      "text/plain": [
       "MOD_RAZONA_CUANTITAT_PUNT     0\n",
       "MOD_RAZONA_CUANTITAT_DESEM    0\n",
       "MOD_LECTURA_CRITICA_PUNT      0\n",
       "MOD_LECTURA_CRITICA_DESEM     0\n",
       "MOD_COMPETEN_CIUDADA_PUNT     0\n",
       "MOD_COMPETEN_CIUDADA_DESEM    0\n",
       "MOD_INGLES_PUNT               0\n",
       "MOD_INGLES_DESEM              0\n",
       "MOD_COMUNI_ESCRITA_PUNT       0\n",
       "MOD_COMUNI_ESCRITA_DESEM      2\n",
       "dtype: int64"
      ]
     },
     "execution_count": 70,
     "metadata": {},
     "output_type": "execute_result"
    }
   ],
   "source": [
    "df.isnull().sum()"
   ]
  }
 ],
 "metadata": {
  "kernelspec": {
   "display_name": "Python 3",
   "language": "python",
   "name": "python3"
  },
  "language_info": {
   "codemirror_mode": {
    "name": "ipython",
    "version": 3
   },
   "file_extension": ".py",
   "mimetype": "text/x-python",
   "name": "python",
   "nbconvert_exporter": "python",
   "pygments_lexer": "ipython3",
   "version": "3.8.3"
  }
 },
 "nbformat": 4,
 "nbformat_minor": 4
}
